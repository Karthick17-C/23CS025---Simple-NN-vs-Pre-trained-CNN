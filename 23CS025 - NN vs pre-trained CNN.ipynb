{
  "nbformat": 4,
  "nbformat_minor": 0,
  "metadata": {
    "colab": {
      "provenance": [],
      "gpuType": "T4"
    },
    "kernelspec": {
      "name": "python3",
      "display_name": "Python 3"
    },
    "language_info": {
      "name": "python"
    },
    "accelerator": "GPU"
  },
  "cells": [
    {
      "cell_type": "code",
      "execution_count": null,
      "metadata": {
        "id": "HcuUbOJYervi"
      },
      "outputs": [],
      "source": [
        "!pip install torchvision --quiet\n",
        "!pip install scikit-learn --quiet"
      ]
    },
    {
      "cell_type": "code",
      "source": [
        "!pip install tqdm seaborn --quiet"
      ],
      "metadata": {
        "id": "-T33rpiFfbwN"
      },
      "execution_count": null,
      "outputs": []
    },
    {
      "cell_type": "code",
      "source": [
        "import torch\n",
        "import torch.nn as nn\n",
        "import torch.optim as optim\n",
        "from torchvision import datasets, transforms, models\n",
        "from torch.utils.data import DataLoader\n",
        "import time\n",
        "import matplotlib.pyplot as plt\n",
        "import numpy as np\n",
        "from sklearn.metrics import accuracy_score\n",
        "import os"
      ],
      "metadata": {
        "id": "Npo0amThfn1Z"
      },
      "execution_count": null,
      "outputs": []
    },
    {
      "cell_type": "code",
      "source": [
        "from torchvision.datasets import Flowers102\n",
        "\n",
        "# Transforms\n",
        "transform = {\n",
        "    'train': transforms.Compose([\n",
        "        transforms.Resize((256, 256)),\n",
        "        transforms.CenterCrop(224),\n",
        "        transforms.RandomHorizontalFlip(),\n",
        "        transforms.RandomRotation(15),\n",
        "        transforms.ColorJitter(brightness=0.1, contrast=0.1, saturation=0.1, hue=0.1),\n",
        "        transforms.ToTensor(),\n",
        "        transforms.Normalize([0.485, 0.456, 0.406], [0.229, 0.224, 0.225]) # Add normalization\n",
        "    ]),\n",
        "    'val': transforms.Compose([\n",
        "        transforms.Resize((256, 256)),\n",
        "        transforms.CenterCrop(224),\n",
        "        transforms.ToTensor(),\n",
        "        transforms.Normalize([0.485, 0.456, 0.406], [0.229, 0.224, 0.225]) # Add normalization\n",
        "    ])\n",
        "}\n",
        "\n",
        "# Load dataset\n",
        "train_set = Flowers102(root='.', split='train', download=True, transform=transform['train'])\n",
        "val_set = Flowers102(root='.', split='val', download=True, transform=transform['val'])\n",
        "\n",
        "# Dataloaders\n",
        "train_loader = DataLoader(train_set, batch_size=32, shuffle=True)\n",
        "val_loader = DataLoader(val_set, batch_size=32, shuffle=False)\n",
        "\n",
        "print(f\"Classes: {len(train_set.classes)}\")"
      ],
      "metadata": {
        "colab": {
          "base_uri": "https://localhost:8080/"
        },
        "id": "unnKZNASf1oY",
        "outputId": "b5cff443-e017-4639-d7fc-64e0d9f2b4e6"
      },
      "execution_count": null,
      "outputs": [
        {
          "output_type": "stream",
          "name": "stdout",
          "text": [
            "Classes: 102\n"
          ]
        }
      ]
    },
    {
      "cell_type": "code",
      "source": [
        "class SimpleCNN(nn.Module):\n",
        "    def __init__(self, num_classes=102):\n",
        "        super(SimpleCNN, self).__init__()\n",
        "        self.features = nn.Sequential(\n",
        "            nn.Conv2d(3, 32, 3, padding=1),\n",
        "            nn.ReLU(),\n",
        "            nn.MaxPool2d(2),\n",
        "            nn.Conv2d(32, 64, 3, padding=1),\n",
        "            nn.ReLU(),\n",
        "            nn.MaxPool2d(2)\n",
        "        )\n",
        "        self.classifier = nn.Sequential(\n",
        "            nn.Flatten(),\n",
        "            nn.Linear(64 * 56 * 56, 256),\n",
        "            nn.ReLU(),\n",
        "            nn.Linear(256, num_classes)\n",
        "        )\n",
        "\n",
        "    def forward(self, x):\n",
        "        x = self.features(x)\n",
        "        x = self.classifier(x)\n",
        "        return x\n",
        "\n",
        "device = torch.device(\"cuda\" if torch.cuda.is_available() else \"cpu\")\n",
        "model = SimpleCNN().to(device)\n",
        "criterion = nn.CrossEntropyLoss()\n",
        "optimizer = optim.Adam(model.parameters(), lr=0.001)"
      ],
      "metadata": {
        "id": "A76zfU30gLox"
      },
      "execution_count": null,
      "outputs": []
    },
    {
      "cell_type": "code",
      "source": [
        "def train_model(model, dataloaders, criterion, optimizer, num_epochs=5):\n",
        "    since = time.time()\n",
        "\n",
        "    for epoch in range(num_epochs):\n",
        "        print(f'Epoch {epoch+1}/{num_epochs}')\n",
        "        model.train()\n",
        "        running_loss = 0.0\n",
        "        correct = 0\n",
        "        total = 0\n",
        "\n",
        "        for inputs, labels in dataloaders['train']:\n",
        "            inputs, labels = inputs.to(device), labels.to(device)\n",
        "            optimizer.zero_grad()\n",
        "\n",
        "            outputs = model(inputs)\n",
        "            loss = criterion(outputs, labels)\n",
        "            loss.backward()\n",
        "            optimizer.step()\n",
        "\n",
        "            running_loss += loss.item() * inputs.size(0)\n",
        "            _, preds = torch.max(outputs, 1)\n",
        "            correct += (preds == labels).sum().item()\n",
        "            total += labels.size(0)\n",
        "\n",
        "        epoch_loss = running_loss / total\n",
        "        epoch_acc = correct / total\n",
        "        print(f'Train Loss: {epoch_loss:.4f}, Accuracy: {epoch_acc:.4f}')\n",
        "\n",
        "    time_elapsed = time.time() - since\n",
        "    print(f'Training complete in {time_elapsed // 60:.0f}m {time_elapsed % 60:.0f}s')\n",
        "    return model\n",
        "\n",
        "# Train the simple CNN\n",
        "model = train_model(model, {'train': train_loader}, criterion, optimizer, num_epochs=5)"
      ],
      "metadata": {
        "colab": {
          "base_uri": "https://localhost:8080/"
        },
        "id": "9CDON40BgSt6",
        "outputId": "8b7baa6f-274d-4c7d-f357-02327b1f598d"
      },
      "execution_count": null,
      "outputs": [
        {
          "output_type": "stream",
          "name": "stdout",
          "text": [
            "Epoch 1/5\n",
            "Train Loss: 5.0950, Accuracy: 0.0127\n",
            "Epoch 2/5\n",
            "Train Loss: 4.6112, Accuracy: 0.0078\n",
            "Epoch 3/5\n",
            "Train Loss: 4.4243, Accuracy: 0.0294\n",
            "Epoch 4/5\n",
            "Train Loss: 4.0116, Accuracy: 0.0804\n",
            "Epoch 5/5\n",
            "Train Loss: 3.3420, Accuracy: 0.1745\n",
            "Training complete in 0m 38s\n"
          ]
        }
      ]
    },
    {
      "cell_type": "code",
      "source": [
        "model_ft = models.resnet18(pretrained=True)\n",
        "for param in model_ft.parameters():\n",
        "    param.requires_grad = False  # freeze pretrained layers\n",
        "\n",
        "num_ftrs = model_ft.fc.in_features\n",
        "model_ft.fc = nn.Linear(num_ftrs, 102)  # 102 flower classes\n",
        "\n",
        "model_ft = model_ft.to(device)\n",
        "criterion = nn.CrossEntropyLoss()\n",
        "optimizer = optim.Adam(model_ft.fc.parameters(), lr=0.001)"
      ],
      "metadata": {
        "colab": {
          "base_uri": "https://localhost:8080/"
        },
        "id": "PJjeL6ZugtzD",
        "outputId": "208c0c5c-342d-439e-a828-f05aa5c19c24"
      },
      "execution_count": null,
      "outputs": [
        {
          "output_type": "stream",
          "name": "stderr",
          "text": [
            "/usr/local/lib/python3.12/dist-packages/torchvision/models/_utils.py:208: UserWarning: The parameter 'pretrained' is deprecated since 0.13 and may be removed in the future, please use 'weights' instead.\n",
            "  warnings.warn(\n",
            "/usr/local/lib/python3.12/dist-packages/torchvision/models/_utils.py:223: UserWarning: Arguments other than a weight enum or `None` for 'weights' are deprecated since 0.13 and may be removed in the future. The current behavior is equivalent to passing `weights=ResNet18_Weights.IMAGENET1K_V1`. You can also use `weights=ResNet18_Weights.DEFAULT` to get the most up-to-date weights.\n",
            "  warnings.warn(msg)\n"
          ]
        },
        {
          "output_type": "stream",
          "name": "stdout",
          "text": [
            "Downloading: \"https://download.pytorch.org/models/resnet18-f37072fd.pth\" to /root/.cache/torch/hub/checkpoints/resnet18-f37072fd.pth\n"
          ]
        },
        {
          "output_type": "stream",
          "name": "stderr",
          "text": [
            "100%|██████████| 44.7M/44.7M [00:00<00:00, 207MB/s]\n"
          ]
        }
      ]
    },
    {
      "cell_type": "code",
      "source": [
        "# Train only the last layer (fine-tuning)\n",
        "model_ft = train_model(model_ft, {'train': train_loader}, criterion, optimizer, num_epochs=5)"
      ],
      "metadata": {
        "colab": {
          "base_uri": "https://localhost:8080/"
        },
        "id": "1LKLzCH9gwz7",
        "outputId": "657f2cac-fbcf-48e3-b5c8-c8511ed3d45e"
      },
      "execution_count": null,
      "outputs": [
        {
          "output_type": "stream",
          "name": "stdout",
          "text": [
            "Epoch 1/5\n",
            "Train Loss: 4.5760, Accuracy: 0.0627\n",
            "Epoch 2/5\n",
            "Train Loss: 3.2185, Accuracy: 0.4373\n",
            "Epoch 3/5\n",
            "Train Loss: 2.3246, Accuracy: 0.7029\n",
            "Epoch 4/5\n",
            "Train Loss: 1.7005, Accuracy: 0.8314\n",
            "Epoch 5/5\n",
            "Train Loss: 1.2439, Accuracy: 0.9039\n",
            "Training complete in 0m 32s\n"
          ]
        }
      ]
    },
    {
      "cell_type": "code",
      "source": [
        "def evaluate_model(model, dataloader):\n",
        "    model.eval()\n",
        "    preds, labels_all = [], []\n",
        "    with torch.no_grad():\n",
        "        for inputs, labels in dataloader:\n",
        "            inputs, labels = inputs.to(device), labels.to(device)\n",
        "            outputs = model(inputs)\n",
        "            _, predicted = torch.max(outputs, 1)\n",
        "            preds.extend(predicted.cpu().numpy())\n",
        "            labels_all.extend(labels.cpu().numpy())\n",
        "    acc = accuracy_score(labels_all, preds)\n",
        "    return acc\n",
        "\n",
        "# Evaluate\n",
        "simple_cnn_acc = evaluate_model(model, val_loader)\n",
        "resnet_acc = evaluate_model(model_ft, val_loader)\n",
        "\n",
        "print(f'Simple CNN Accuracy: {simple_cnn_acc:.4f}')\n",
        "print(f'ResNet18 Accuracy: {resnet_acc:.4f}')"
      ],
      "metadata": {
        "colab": {
          "base_uri": "https://localhost:8080/"
        },
        "id": "ifACUFY0hA-9",
        "outputId": "62fd88d4-67a7-4466-e252-c67afdf895ad"
      },
      "execution_count": null,
      "outputs": [
        {
          "output_type": "stream",
          "name": "stdout",
          "text": [
            "Simple CNN Accuracy: 0.1225\n",
            "ResNet18 Accuracy: 0.7647\n"
          ]
        }
      ]
    },
    {
      "cell_type": "markdown",
      "metadata": {
        "id": "2715696c"
      },
      "source": [
        "Let's unfreeze some of the later layers of the ResNet18 model for further fine-tuning. We will also set up different learning rates for the unfrozen layers and the final classification layer."
      ]
    },
    {
      "cell_type": "code",
      "metadata": {
        "colab": {
          "base_uri": "https://localhost:8080/"
        },
        "id": "166fe011",
        "outputId": "93967ab6-0eb0-484c-85ae-5332fdafd967"
      },
      "source": [
        "# Load a fresh pretrained ResNet18 model\n",
        "model_ft_optimized = models.resnet18(pretrained=True)\n",
        "\n",
        "# Freeze all layers first\n",
        "for param in model_ft_optimized.parameters():\n",
        "    param.requires_grad = False\n",
        "\n",
        "# Unfreeze the last few layers (e.g., the last two blocks)\n",
        "# You might need to experiment with which layers to unfreeze\n",
        "unfreeze_layers = ['layer4', 'layer3', 'layer2', 'fc'] # Example: Unfreeze layer4, layer3, layer2 and the fc layer\n",
        "\n",
        "for name, module in model_ft_optimized.named_modules():\n",
        "    if any(unfreeze_name in name for unfreeze_name in unfreeze_layers):\n",
        "        for param in module.parameters():\n",
        "            param.requires_grad = True\n",
        "\n",
        "# Modify the final fully connected layer for 102 classes\n",
        "num_ftrs_optimized = model_ft_optimized.fc.in_features\n",
        "model_ft_optimized.fc = nn.Linear(num_ftrs_optimized, 102)\n",
        "\n",
        "model_ft_optimized = model_ft_optimized.to(device)\n",
        "\n",
        "# Define optimizer with different learning rates\n",
        "optimizer_optimized = optim.Adam([\n",
        "    {'params': model_ft_optimized.fc.parameters(), 'lr': 0.001}, # Higher learning rate for the new layer\n",
        "    {'params': [param for name, param in model_ft_optimized.named_parameters() if any(unfreeze_name in name for unfreeze_name in unfreeze_layers) and 'fc' not in name], 'lr': 0.0001} # Lower learning rate for unfrozen layers\n",
        "])\n",
        "\n",
        "criterion_optimized = nn.CrossEntropyLoss()"
      ],
      "execution_count": null,
      "outputs": [
        {
          "output_type": "stream",
          "name": "stderr",
          "text": [
            "/usr/local/lib/python3.12/dist-packages/torchvision/models/_utils.py:208: UserWarning: The parameter 'pretrained' is deprecated since 0.13 and may be removed in the future, please use 'weights' instead.\n",
            "  warnings.warn(\n",
            "/usr/local/lib/python3.12/dist-packages/torchvision/models/_utils.py:223: UserWarning: Arguments other than a weight enum or `None` for 'weights' are deprecated since 0.13 and may be removed in the future. The current behavior is equivalent to passing `weights=ResNet18_Weights.IMAGENET1K_V1`. You can also use `weights=ResNet18_Weights.DEFAULT` to get the most up-to-date weights.\n",
            "  warnings.warn(msg)\n"
          ]
        }
      ]
    },
    {
      "cell_type": "markdown",
      "metadata": {
        "id": "d82cade0"
      },
      "source": [
        "Now, let's train the optimized ResNet18 model with the updated optimizer and train for a few more epochs. We will also modify the `train_model` function slightly to show training progress more frequently within each epoch."
      ]
    },
    {
      "cell_type": "code",
      "metadata": {
        "colab": {
          "base_uri": "https://localhost:8080/"
        },
        "id": "619f1951",
        "outputId": "95df0451-94e7-4702-96c3-550ba097e479"
      },
      "source": [
        "def train_model_optimized(model, dataloaders, criterion, optimizer, num_epochs=5):\n",
        "    since = time.time()\n",
        "\n",
        "    train_loss_history = []\n",
        "    train_acc_history = []\n",
        "\n",
        "    for epoch in range(num_epochs):\n",
        "        print(f'Epoch {epoch+1}/{num_epochs}')\n",
        "        model.train()\n",
        "        running_loss = 0.0\n",
        "        correct = 0\n",
        "        total = 0\n",
        "\n",
        "        for i, (inputs, labels) in enumerate(dataloaders['train']):\n",
        "            inputs, labels = inputs.to(device), labels.to(device)\n",
        "            optimizer.zero_grad()\n",
        "\n",
        "            outputs = model(inputs)\n",
        "            loss = criterion(outputs, labels)\n",
        "            loss.backward()\n",
        "            optimizer.step()\n",
        "\n",
        "            running_loss += loss.item() * inputs.size(0)\n",
        "            _, preds = torch.max(outputs, 1)\n",
        "            correct += (preds == labels).sum().item()\n",
        "            total += labels.size(0)\n",
        "\n",
        "            if (i + 1) % 100 == 0: # Print every 100 batches\n",
        "                print(f'  Batch {i+1}, Loss: {loss.item():.4f}')\n",
        "\n",
        "\n",
        "        epoch_loss = running_loss / total\n",
        "        epoch_acc = correct / total\n",
        "        print(f'Train Loss: {epoch_loss:.4f}, Accuracy: {epoch_acc:.4f}')\n",
        "        train_loss_history.append(epoch_loss)\n",
        "        train_acc_history.append(epoch_acc)\n",
        "\n",
        "\n",
        "    time_elapsed = time.time() - since\n",
        "    print(f'Training complete in {time_elapsed // 60:.0f}m {time_elapsed % 60:.0f}s')\n",
        "    return model, train_loss_history, train_acc_history\n",
        "\n",
        "# Train the optimized ResNet18 model\n",
        "model_ft_optimized, train_loss_optimized, train_acc_optimized = train_model_optimized(\n",
        "    model_ft_optimized, {'train': train_loader}, criterion_optimized, optimizer_optimized, num_epochs=10 # Increased epochs\n",
        ")"
      ],
      "execution_count": null,
      "outputs": [
        {
          "output_type": "stream",
          "name": "stdout",
          "text": [
            "Epoch 1/10\n",
            "Train Loss: 4.4040, Accuracy: 0.0902\n",
            "Epoch 2/10\n",
            "Train Loss: 2.7101, Accuracy: 0.4794\n",
            "Epoch 3/10\n",
            "Train Loss: 1.6168, Accuracy: 0.7324\n",
            "Epoch 4/10\n",
            "Train Loss: 1.0778, Accuracy: 0.8137\n",
            "Epoch 5/10\n",
            "Train Loss: 0.6995, Accuracy: 0.8931\n",
            "Epoch 6/10\n",
            "Train Loss: 0.5259, Accuracy: 0.9206\n",
            "Epoch 7/10\n",
            "Train Loss: 0.3979, Accuracy: 0.9412\n",
            "Epoch 8/10\n",
            "Train Loss: 0.3193, Accuracy: 0.9529\n",
            "Epoch 9/10\n",
            "Train Loss: 0.2251, Accuracy: 0.9745\n",
            "Epoch 10/10\n",
            "Train Loss: 0.1701, Accuracy: 0.9833\n",
            "Training complete in 2m 5s\n"
          ]
        }
      ]
    },
    {
      "cell_type": "markdown",
      "metadata": {
        "id": "a91b4683"
      },
      "source": [
        "Now let's evaluate the optimized ResNet18 model and compare its accuracy and training time with the simple CNN and the previously fine-tuned ResNet18."
      ]
    },
    {
      "cell_type": "code",
      "metadata": {
        "colab": {
          "base_uri": "https://localhost:8080/"
        },
        "id": "1fc7a359",
        "outputId": "d45e5cc8-e70f-485f-a134-31ef68cbc4d1"
      },
      "source": [
        "# Evaluate the optimized ResNet18\n",
        "resnet_optimized_acc = evaluate_model(model_ft_optimized, val_loader)\n",
        "\n",
        "print(f'Simple CNN Accuracy: {simple_cnn_acc:.4f}')\n",
        "print(f'Previously fine-tuned ResNet18 Accuracy: {resnet_acc:.4f}')\n",
        "print(f'Optimized ResNet18 Accuracy: {resnet_optimized_acc:.4f}')\n",
        "\n",
        "# Note: To compare training times accurately, you would need to record the time for each training run separately.\n",
        "# The printed output from the training functions provides the time taken for each training session."
      ],
      "execution_count": null,
      "outputs": [
        {
          "output_type": "stream",
          "name": "stdout",
          "text": [
            "Simple CNN Accuracy: 0.1225\n",
            "Previously fine-tuned ResNet18 Accuracy: 0.7647\n",
            "Optimized ResNet18 Accuracy: 0.8637\n"
          ]
        }
      ]
    },
    {
      "cell_type": "markdown",
      "metadata": {
        "id": "3df0c936"
      },
      "source": [
        "Let's train the optimized ResNet18 model with the updated data augmentation."
      ]
    },
    {
      "cell_type": "code",
      "metadata": {
        "colab": {
          "base_uri": "https://localhost:8080/"
        },
        "id": "94d32b35",
        "outputId": "a4a4d608-b063-4b2c-fdc1-3aab937f0cf6"
      },
      "source": [
        "# Train the optimized ResNet18 model with updated data augmentation\n",
        "model_ft_optimized, train_loss_optimized, train_acc_optimized = train_model_optimized(\n",
        "    model_ft_optimized, {'train': train_loader}, criterion_optimized, optimizer_optimized, num_epochs=10 # Keeping the increased epochs\n",
        ")"
      ],
      "execution_count": null,
      "outputs": [
        {
          "output_type": "stream",
          "name": "stdout",
          "text": [
            "Epoch 1/10\n",
            "Train Loss: 4.2727, Accuracy: 0.1588\n",
            "Epoch 2/10\n",
            "Train Loss: 2.0049, Accuracy: 0.6941\n",
            "Epoch 3/10\n",
            "Train Loss: 0.9473, Accuracy: 0.8882\n",
            "Epoch 4/10\n",
            "Train Loss: 0.4587, Accuracy: 0.9598\n",
            "Epoch 5/10\n",
            "Train Loss: 0.2403, Accuracy: 0.9882\n",
            "Epoch 6/10\n",
            "Train Loss: 0.1393, Accuracy: 0.9951\n",
            "Epoch 7/10\n",
            "Train Loss: 0.0961, Accuracy: 0.9980\n",
            "Epoch 8/10\n",
            "Train Loss: 0.0725, Accuracy: 0.9990\n",
            "Epoch 9/10\n",
            "Train Loss: 0.0506, Accuracy: 1.0000\n",
            "Epoch 10/10\n",
            "Train Loss: 0.0420, Accuracy: 1.0000\n",
            "Training complete in 2m 17s\n"
          ]
        }
      ]
    },
    {
      "cell_type": "markdown",
      "metadata": {
        "id": "45338a7c"
      },
      "source": [
        "Now let's evaluate the optimized ResNet18 model with the updated data augmentation and compare its accuracy."
      ]
    },
    {
      "cell_type": "code",
      "metadata": {
        "colab": {
          "base_uri": "https://localhost:8080/"
        },
        "id": "592c922f",
        "outputId": "37c9cc3a-67c1-4993-e269-1acc445dbf48"
      },
      "source": [
        "# Evaluate the optimized ResNet18\n",
        "resnet_optimized_acc = evaluate_model(model_ft_optimized, val_loader)\n",
        "\n",
        "print(f'Simple CNN Accuracy: {simple_cnn_acc:.4f}')\n",
        "print(f'Previously fine-tuned ResNet18 Accuracy: {resnet_acc:.4f}')\n",
        "print(f'Optimized ResNet18 Accuracy (with more unfreezing and data augmentation): {resnet_optimized_acc:.4f}')"
      ],
      "execution_count": null,
      "outputs": [
        {
          "output_type": "stream",
          "name": "stdout",
          "text": [
            "Simple CNN Accuracy: 0.1225\n",
            "Previously fine-tuned ResNet18 Accuracy: 0.7647\n",
            "Optimized ResNet18 Accuracy (with more unfreezing and data augmentation): 0.9020\n"
          ]
        }
      ]
    },
    {
      "cell_type": "code",
      "source": [
        "import matplotlib.pyplot as plt\n",
        "\n",
        "# Hardcoded accuracy values\n",
        "accuracies = [0.1225, 0.7647, 0.8637]\n",
        "model_names = ['Simple CNN', 'ResNet18 (Frozen)', 'ResNet18 (Optimized)']\n",
        "\n",
        "# Plot\n",
        "plt.figure(figsize=(10, 6))\n",
        "bars = plt.bar(model_names, accuracies, color=['skyblue', 'orange', 'green'])\n",
        "plt.ylabel('Validation Accuracy')\n",
        "plt.title('Model Accuracy Comparison')\n",
        "plt.ylim(0, 1)\n",
        "\n",
        "# Annotate bars\n",
        "for bar, acc in zip(bars, accuracies):\n",
        "    yval = bar.get_height()\n",
        "    plt.text(bar.get_x() + bar.get_width() / 2, yval + 0.02, f\"{acc:.4f}\", ha='center')\n",
        "\n",
        "plt.grid(axis='y')\n",
        "plt.tight_layout()\n",
        "plt.show()\n"
      ],
      "metadata": {
        "colab": {
          "base_uri": "https://localhost:8080/",
          "height": 607
        },
        "id": "lsiFDG3ONZBe",
        "outputId": "b6676f8e-214a-4198-9da6-0fd0ff3bbed5"
      },
      "execution_count": 5,
      "outputs": [
        {
          "output_type": "display_data",
          "data": {
            "text/plain": [
              "<Figure size 1000x600 with 1 Axes>"
            ],
            "image/png": "[encoded data removed]"
          },
          "metadata": {}
        }
      ]
    }
  ]
}
